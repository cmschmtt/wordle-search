{
 "cells": [
  {
   "cell_type": "code",
   "execution_count": 1,
   "id": "03a7a78d-93c1-4c64-905f-01520cbd330d",
   "metadata": {},
   "outputs": [],
   "source": [
    "import itertools\n",
    "import urllib\n",
    "import numpy as np"
   ]
  },
  {
   "cell_type": "code",
   "execution_count": 2,
   "id": "60781f24-47d8-4eff-92bf-16a8359929ef",
   "metadata": {},
   "outputs": [],
   "source": [
    "# words_url = 'https://github.com/dwyl/english-words/blob/master/words_alpha.txt?raw=true)'\n",
    "words_url = 'https://github.com/zeisler/scrabble/blob/master/db/dictionary.csv?raw=true'"
   ]
  },
  {
   "cell_type": "code",
   "execution_count": 3,
   "id": "3a8438b1-f3f1-4e92-8fa1-e272c38c7a3f",
   "metadata": {},
   "outputs": [],
   "source": [
    "file = urllib.request.urlopen(words_url)"
   ]
  },
  {
   "cell_type": "code",
   "execution_count": 4,
   "id": "d728c63e-37dc-42ed-a65e-c4a2be4c2fb8",
   "metadata": {},
   "outputs": [],
   "source": [
    "decoded_lines = []\n",
    "\n",
    "for line in file:\n",
    "    decoded_line = line.decode('utf-8')\n",
    "    decoded_lines.append(decoded_line)"
   ]
  },
  {
   "cell_type": "code",
   "execution_count": 5,
   "id": "92482121-694c-4706-92f1-723df49ad79e",
   "metadata": {},
   "outputs": [
    {
     "data": {
      "text/plain": [
       "['aa\\r\\n',\n",
       " 'aah\\r\\n',\n",
       " 'aahed\\r\\n',\n",
       " 'aahing\\r\\n',\n",
       " 'aahs\\r\\n',\n",
       " 'aal\\r\\n',\n",
       " 'aalii\\r\\n',\n",
       " 'aaliis\\r\\n',\n",
       " 'aals\\r\\n',\n",
       " 'aardvark\\r\\n']"
      ]
     },
     "execution_count": 5,
     "metadata": {},
     "output_type": "execute_result"
    }
   ],
   "source": [
    "decoded_lines[:10]"
   ]
  },
  {
   "cell_type": "code",
   "execution_count": 6,
   "id": "3c7359bd-c9bb-4ded-a074-308576ac0c67",
   "metadata": {},
   "outputs": [],
   "source": [
    "decoded_lines = [each.strip() for each in decoded_lines]"
   ]
  },
  {
   "cell_type": "code",
   "execution_count": 7,
   "id": "cf863ccf-1391-468f-86b2-9109bf5e222c",
   "metadata": {},
   "outputs": [],
   "source": [
    "five_letter_words = [each for each in decoded_lines if len(each) == 5]"
   ]
  },
  {
   "cell_type": "code",
   "execution_count": 8,
   "id": "21472904-8dcb-4cc6-a72a-68f3517964c0",
   "metadata": {},
   "outputs": [
    {
     "data": {
      "text/plain": [
       "8636"
      ]
     },
     "execution_count": 8,
     "metadata": {},
     "output_type": "execute_result"
    }
   ],
   "source": [
    "len(five_letter_words)"
   ]
  },
  {
   "cell_type": "markdown",
   "id": "a00f11c3-ecf2-47ac-8b1f-645236f753d3",
   "metadata": {},
   "source": [
    "## Most common letter?"
   ]
  },
  {
   "cell_type": "code",
   "execution_count": 9,
   "id": "00030de5-39cc-4ffd-8958-303678e10ef0",
   "metadata": {},
   "outputs": [],
   "source": [
    "big_word_string = ''.join(five_letter_words)"
   ]
  },
  {
   "cell_type": "code",
   "execution_count": 10,
   "id": "d532900c-83fb-4323-97ff-ec29ffcf2667",
   "metadata": {},
   "outputs": [],
   "source": [
    "import pandas as pd"
   ]
  },
  {
   "cell_type": "code",
   "execution_count": 11,
   "id": "5d7d5e4a-c541-4ec3-8ce2-4731ef162743",
   "metadata": {},
   "outputs": [],
   "source": [
    "word_series = pd.Series(list(big_word_string))"
   ]
  },
  {
   "cell_type": "code",
   "execution_count": 12,
   "id": "2fed04ac-652b-4b10-a457-57f7be48f193",
   "metadata": {},
   "outputs": [],
   "source": [
    "most_common_letters = word_series.value_counts().index[:10].values"
   ]
  },
  {
   "cell_type": "code",
   "execution_count": 13,
   "id": "be812436-8e49-422c-a820-b4de1066db43",
   "metadata": {},
   "outputs": [
    {
     "data": {
      "text/plain": [
       "array(['s', 'e', 'a', 'o', 'r', 'i', 'l', 't', 'n', 'd'], dtype=object)"
      ]
     },
     "execution_count": 13,
     "metadata": {},
     "output_type": "execute_result"
    }
   ],
   "source": [
    "most_common_letters"
   ]
  },
  {
   "cell_type": "code",
   "execution_count": 14,
   "id": "d715d381-7596-4af3-8110-08c4cc901eec",
   "metadata": {},
   "outputs": [],
   "source": [
    "def made_of_common_letters(word, most_common_letters=most_common_letters):\n",
    "    return all([char in most_common_letters for char in word])"
   ]
  },
  {
   "cell_type": "code",
   "execution_count": 15,
   "id": "ffd12c42-4048-41ac-b9d6-61230062cec6",
   "metadata": {},
   "outputs": [],
   "source": [
    "five_letter_words_common = [word for word in five_letter_words if made_of_common_letters(word)]"
   ]
  },
  {
   "cell_type": "code",
   "execution_count": 16,
   "id": "8f43c758-8d20-4c6b-b48b-3aa622d2b539",
   "metadata": {},
   "outputs": [],
   "source": [
    "# wordstack = '\\n'.join(five_letter_words_common)\n",
    "\n",
    "# with open('wordstack.txt', 'w') as f:\n",
    "#     f.write(wordstack)"
   ]
  },
  {
   "cell_type": "code",
   "execution_count": 17,
   "id": "a6ce7326-5f5a-4106-b476-00a70b6aeec9",
   "metadata": {},
   "outputs": [],
   "source": [
    "letters_by_placement = np.array([list(each) for each in five_letter_words_common]).T"
   ]
  },
  {
   "cell_type": "code",
   "execution_count": 21,
   "id": "15d5a7bb-4ecf-4cb6-8a67-bcea1c37b310",
   "metadata": {},
   "outputs": [],
   "source": [
    "# first_placement"
   ]
  },
  {
   "cell_type": "code",
   "execution_count": 19,
   "id": "acc5238e-f627-487d-bde7-9d61aa719d70",
   "metadata": {},
   "outputs": [],
   "source": [
    "first_placement = pd.Series(letters_by_placement[0]).value_counts(normalize=True)\n",
    "second_placement = pd.Series(letters_by_placement[1]).value_counts(normalize=True)\n",
    "third_placement = pd.Series(letters_by_placement[2]).value_counts(normalize=True)\n",
    "fourth_placement = pd.Series(letters_by_placement[3]).value_counts(normalize=True)\n",
    "fifth_placement = pd.Series(letters_by_placement[4]).value_counts(normalize=True)"
   ]
  },
  {
   "cell_type": "code",
   "execution_count": 20,
   "id": "8219dbbb-0777-45fe-b751-4519cb189ed8",
   "metadata": {},
   "outputs": [
    {
     "data": {
      "text/plain": [
       "{'s': 0.19413092550790068,\n",
       " 't': 0.1636568848758465,\n",
       " 'r': 0.11851015801354402,\n",
       " 'd': 0.11286681715575621,\n",
       " 'a': 0.10948081264108352,\n",
       " 'l': 0.10496613995485328,\n",
       " 'n': 0.06433408577878104,\n",
       " 'e': 0.046275395033860044,\n",
       " 'o': 0.04401805869074492,\n",
       " 'i': 0.0417607223476298}"
      ]
     },
     "execution_count": 20,
     "metadata": {},
     "output_type": "execute_result"
    }
   ],
   "source": [
    "dict(first_placement)"
   ]
  },
  {
   "cell_type": "code",
   "execution_count": 22,
   "id": "4b3a3bb0-00a2-4272-993b-4dcc38709222",
   "metadata": {},
   "outputs": [],
   "source": [
    "placements = [first_placement, second_placement, third_placement, fourth_placement, fifth_placement]"
   ]
  },
  {
   "cell_type": "code",
   "execution_count": 23,
   "id": "dc0608d9-f1b6-4ee0-8093-42be9ab40759",
   "metadata": {},
   "outputs": [],
   "source": [
    "weighted_dicts = [dict(placement) for placement in placements]"
   ]
  },
  {
   "cell_type": "code",
   "execution_count": 24,
   "id": "62fdcc47-db6e-4a15-80dd-4f4c5e50da7a",
   "metadata": {},
   "outputs": [],
   "source": [
    "def flip_dict(d):\n",
    "    return {d: k for k, d in d.items()}"
   ]
  },
  {
   "cell_type": "code",
   "execution_count": 25,
   "id": "a29150b7-0fb8-45aa-9dcb-e42d5a58c001",
   "metadata": {},
   "outputs": [],
   "source": [
    "placement_dicts = [dict(enumerate(placement.index)) for placement in placements]\n",
    "placement_dicts = [flip_dict(d) for d in placement_dicts]"
   ]
  },
  {
   "cell_type": "code",
   "execution_count": 26,
   "id": "0936c34f-289c-4a68-b914-63ce2e558efd",
   "metadata": {},
   "outputs": [],
   "source": [
    "def freq_encode(word):\n",
    "    '''\n",
    "    Converts a word into a numerical encoding based on character\n",
    "    positioning and frequency.\n",
    "    '''\n",
    "    assert len(word) == 5\n",
    "    assert made_of_common_letters(word)\n",
    "    \n",
    "#     return placement_dicts[0].get(word[0])\n",
    "\n",
    "    encoding = []\n",
    "    \n",
    "    for ix, d in enumerate(weighted_dicts):\n",
    "        code = d.get(word[ix])\n",
    "        encoding.append(code)\n",
    "        \n",
    "    return sum(encoding)"
   ]
  },
  {
   "cell_type": "code",
   "execution_count": 27,
   "id": "37bc1adb-7793-43c3-b31c-4eb77fb2e0ce",
   "metadata": {},
   "outputs": [
    {
     "data": {
      "text/plain": [
       "0.34198645598194133"
      ]
     },
     "execution_count": 27,
     "metadata": {},
     "output_type": "execute_result"
    }
   ],
   "source": [
    "freq_encode('adorn')"
   ]
  },
  {
   "cell_type": "code",
   "execution_count": 28,
   "id": "a24d64b3-ad3a-46d3-a911-ba00071fabc9",
   "metadata": {},
   "outputs": [
    {
     "data": {
      "text/plain": [
       "1.1388261851015802"
      ]
     },
     "execution_count": 28,
     "metadata": {},
     "output_type": "execute_result"
    }
   ],
   "source": [
    "freq_encode('tores')"
   ]
  },
  {
   "cell_type": "code",
   "execution_count": 29,
   "id": "7b70acc0-d32f-40b4-8003-25b5fa23e1d4",
   "metadata": {},
   "outputs": [
    {
     "data": {
      "text/plain": [
       "0.4785553047404063"
      ]
     },
     "execution_count": 29,
     "metadata": {},
     "output_type": "execute_result"
    }
   ],
   "source": [
    "freq_encode('nidal')"
   ]
  },
  {
   "cell_type": "code",
   "execution_count": 30,
   "id": "be5ea202-dd2f-4a7f-80ca-ecbef8b0b24f",
   "metadata": {},
   "outputs": [],
   "source": [
    "words_list = [each for each in five_letter_words_common if len(set(each)) == 5]"
   ]
  },
  {
   "cell_type": "code",
   "execution_count": 31,
   "id": "465bbe49-79a0-4924-8d34-34e0cb69c0be",
   "metadata": {},
   "outputs": [],
   "source": [
    "word_df = pd.DataFrame(words_list, columns=['word'])"
   ]
  },
  {
   "cell_type": "code",
   "execution_count": 32,
   "id": "e386c909-a3d4-43d6-a63d-72fa1b21b260",
   "metadata": {},
   "outputs": [],
   "source": [
    "word_df['encoding'] = word_df['word'].map(freq_encode)"
   ]
  },
  {
   "cell_type": "code",
   "execution_count": 33,
   "id": "5aaaf004-199d-460a-a739-1264705a9666",
   "metadata": {},
   "outputs": [
    {
     "data": {
      "text/html": [
       "<div>\n",
       "<style scoped>\n",
       "    .dataframe tbody tr th:only-of-type {\n",
       "        vertical-align: middle;\n",
       "    }\n",
       "\n",
       "    .dataframe tbody tr th {\n",
       "        vertical-align: top;\n",
       "    }\n",
       "\n",
       "    .dataframe thead th {\n",
       "        text-align: right;\n",
       "    }\n",
       "</style>\n",
       "<table border=\"1\" class=\"dataframe\">\n",
       "  <thead>\n",
       "    <tr style=\"text-align: right;\">\n",
       "      <th></th>\n",
       "      <th>word</th>\n",
       "      <th>encoding</th>\n",
       "    </tr>\n",
       "  </thead>\n",
       "  <tbody>\n",
       "    <tr>\n",
       "      <th>403</th>\n",
       "      <td>tores</td>\n",
       "      <td>1.138826</td>\n",
       "    </tr>\n",
       "    <tr>\n",
       "      <th>360</th>\n",
       "      <td>tares</td>\n",
       "      <td>1.129797</td>\n",
       "    </tr>\n",
       "    <tr>\n",
       "      <th>396</th>\n",
       "      <td>toles</td>\n",
       "      <td>1.123025</td>\n",
       "    </tr>\n",
       "    <tr>\n",
       "      <th>401</th>\n",
       "      <td>tones</td>\n",
       "      <td>1.123025</td>\n",
       "    </tr>\n",
       "    <tr>\n",
       "      <th>356</th>\n",
       "      <td>tales</td>\n",
       "      <td>1.113995</td>\n",
       "    </tr>\n",
       "    <tr>\n",
       "      <th>387</th>\n",
       "      <td>tires</td>\n",
       "      <td>1.110609</td>\n",
       "    </tr>\n",
       "    <tr>\n",
       "      <th>284</th>\n",
       "      <td>rotes</td>\n",
       "      <td>1.101580</td>\n",
       "    </tr>\n",
       "    <tr>\n",
       "      <th>84</th>\n",
       "      <td>dotes</td>\n",
       "      <td>1.095937</td>\n",
       "    </tr>\n",
       "    <tr>\n",
       "      <th>385</th>\n",
       "      <td>tines</td>\n",
       "      <td>1.094808</td>\n",
       "    </tr>\n",
       "    <tr>\n",
       "      <th>382</th>\n",
       "      <td>tiles</td>\n",
       "      <td>1.094808</td>\n",
       "    </tr>\n",
       "    <tr>\n",
       "      <th>245</th>\n",
       "      <td>rates</td>\n",
       "      <td>1.092551</td>\n",
       "    </tr>\n",
       "    <tr>\n",
       "      <th>49</th>\n",
       "      <td>dates</td>\n",
       "      <td>1.086907</td>\n",
       "    </tr>\n",
       "    <tr>\n",
       "      <th>176</th>\n",
       "      <td>lores</td>\n",
       "      <td>1.080135</td>\n",
       "    </tr>\n",
       "    <tr>\n",
       "      <th>45</th>\n",
       "      <td>dares</td>\n",
       "      <td>1.079007</td>\n",
       "    </tr>\n",
       "    <tr>\n",
       "      <th>279</th>\n",
       "      <td>roles</td>\n",
       "      <td>1.077878</td>\n",
       "    </tr>\n",
       "  </tbody>\n",
       "</table>\n",
       "</div>"
      ],
      "text/plain": [
       "      word  encoding\n",
       "403  tores  1.138826\n",
       "360  tares  1.129797\n",
       "396  toles  1.123025\n",
       "401  tones  1.123025\n",
       "356  tales  1.113995\n",
       "387  tires  1.110609\n",
       "284  rotes  1.101580\n",
       "84   dotes  1.095937\n",
       "385  tines  1.094808\n",
       "382  tiles  1.094808\n",
       "245  rates  1.092551\n",
       "49   dates  1.086907\n",
       "176  lores  1.080135\n",
       "45   dares  1.079007\n",
       "279  roles  1.077878"
      ]
     },
     "execution_count": 33,
     "metadata": {},
     "output_type": "execute_result"
    }
   ],
   "source": [
    "word_df.sort_values(by='encoding', ascending=False).head(15)"
   ]
  },
  {
   "cell_type": "code",
   "execution_count": 34,
   "id": "08af3d2c-e357-40c8-9c2e-1713c5c8a0a2",
   "metadata": {},
   "outputs": [],
   "source": [
    "from itertools import permutations"
   ]
  },
  {
   "cell_type": "code",
   "execution_count": 35,
   "id": "dca6ff21-79e5-46b6-a467-7a58cab59605",
   "metadata": {},
   "outputs": [],
   "source": [
    "def get_excl_letters(word, most_common_letters=most_common_letters):\n",
    "    return [char for char in most_common_letters if char not in word]"
   ]
  },
  {
   "cell_type": "code",
   "execution_count": 36,
   "id": "adaf7f53-c667-4710-a486-7917db5b993f",
   "metadata": {},
   "outputs": [
    {
     "data": {
      "text/plain": [
       "['a', 'o', 'r', 'n', 'd']"
      ]
     },
     "execution_count": 36,
     "metadata": {},
     "output_type": "execute_result"
    }
   ],
   "source": [
    "get_excl_letters('tiles')"
   ]
  },
  {
   "cell_type": "code",
   "execution_count": 37,
   "id": "47597ee0-d68d-416f-985e-c58f63a07bb1",
   "metadata": {},
   "outputs": [],
   "source": [
    "def generate_permutations(letter_list):\n",
    "    return [''.join(each) for each in list(permutations(letter_list))]"
   ]
  },
  {
   "cell_type": "code",
   "execution_count": 38,
   "id": "0760c4ff-5723-423e-9361-e0cc2d3a2231",
   "metadata": {},
   "outputs": [],
   "source": [
    "def get_paired_words(word, most_common_letters=most_common_letters):\n",
    "    excl_letters = get_excl_letters(word)\n",
    "    perms = generate_permutations(excl_letters)\n",
    "    return [perm for perm in perms if perm in five_letter_words]"
   ]
  },
  {
   "cell_type": "code",
   "execution_count": 39,
   "id": "f4da1d6d-a42e-4c27-b4e4-928d1d11b4f4",
   "metadata": {},
   "outputs": [],
   "source": [
    "def get_highest_scored_paired_word(paired_words, encoding_func=freq_encode):\n",
    "    if len(paired_words) == 1:\n",
    "        return paired_words[0]\n",
    "    else:\n",
    "        max_score = 0\n",
    "        best_word = None\n",
    "        for word in paired_words:\n",
    "            word_score = encoding_func(word)\n",
    "#             print(word_score)\n",
    "            if word_score > max_score:\n",
    "                max_score = word_score\n",
    "                best_word = word\n",
    "#                 print(f'best_word set to {best_word}')\n",
    "        return best_word"
   ]
  },
  {
   "cell_type": "code",
   "execution_count": 50,
   "id": "9026f225",
   "metadata": {},
   "outputs": [
    {
     "data": {
      "text/plain": [
       "['o', 'r', 'l', 't', 'n', 'd']"
      ]
     },
     "execution_count": 50,
     "metadata": {},
     "output_type": "execute_result"
    }
   ],
   "source": [
    "get_excl_letters('aegis')"
   ]
  },
  {
   "cell_type": "code",
   "execution_count": 49,
   "id": "4f36ecbb",
   "metadata": {},
   "outputs": [
    {
     "data": {
      "text/plain": [
       "['adorn', 'radon']"
      ]
     },
     "execution_count": 49,
     "metadata": {},
     "output_type": "execute_result"
    }
   ],
   "source": [
    "get_paired_words('aegis')"
   ]
  },
  {
   "cell_type": "code",
   "execution_count": 213,
   "id": "f8d1b563-7649-424d-90a7-30c5b9ce5023",
   "metadata": {},
   "outputs": [
    {
     "data": {
      "text/plain": [
       "'radon'"
      ]
     },
     "execution_count": 213,
     "metadata": {},
     "output_type": "execute_result"
    }
   ],
   "source": [
    "get_highest_scored_paired_word(get_paired_words('tiles'))"
   ]
  },
  {
   "cell_type": "code",
   "execution_count": 219,
   "id": "11f7315b-b3a7-4aa5-955f-8f574c7e9740",
   "metadata": {},
   "outputs": [],
   "source": [
    "def get_complement(word):\n",
    "    paired_words = get_paired_words(word)\n",
    "#     print(paired_words)\n",
    "    complement = get_highest_scored_paired_word(paired_words)\n",
    "    return complement"
   ]
  },
  {
   "cell_type": "code",
   "execution_count": 221,
   "id": "de91d5f0-e9ef-4c55-93f9-87951ff0bbc3",
   "metadata": {},
   "outputs": [],
   "source": [
    "word_df['complement'] = word_df['word'].map(get_complement)"
   ]
  },
  {
   "cell_type": "code",
   "execution_count": 223,
   "id": "993a75d3-913e-4f19-bcb3-b5542935f8f7",
   "metadata": {},
   "outputs": [
    {
     "data": {
      "text/plain": [
       "124"
      ]
     },
     "execution_count": 223,
     "metadata": {},
     "output_type": "execute_result"
    }
   ],
   "source": [
    "word_df['complement'].isnull().sum()"
   ]
  },
  {
   "cell_type": "code",
   "execution_count": 229,
   "id": "5d9d2aec-b67f-4cdc-bc42-9aea8c0e3e33",
   "metadata": {},
   "outputs": [],
   "source": [
    "complements = word_df.dropna().copy()"
   ]
  },
  {
   "cell_type": "code",
   "execution_count": 231,
   "id": "b62b9d86-aec7-42b2-8df5-e26be2fcc79e",
   "metadata": {},
   "outputs": [
    {
     "data": {
      "text/html": [
       "<div>\n",
       "<style scoped>\n",
       "    .dataframe tbody tr th:only-of-type {\n",
       "        vertical-align: middle;\n",
       "    }\n",
       "\n",
       "    .dataframe tbody tr th {\n",
       "        vertical-align: top;\n",
       "    }\n",
       "\n",
       "    .dataframe thead th {\n",
       "        text-align: right;\n",
       "    }\n",
       "</style>\n",
       "<table border=\"1\" class=\"dataframe\">\n",
       "  <thead>\n",
       "    <tr style=\"text-align: right;\">\n",
       "      <th></th>\n",
       "      <th>word</th>\n",
       "      <th>encoding</th>\n",
       "      <th>complement</th>\n",
       "    </tr>\n",
       "  </thead>\n",
       "  <tbody>\n",
       "    <tr>\n",
       "      <th>1</th>\n",
       "      <td>adits</td>\n",
       "      <td>0.727991</td>\n",
       "      <td>loner</td>\n",
       "    </tr>\n",
       "    <tr>\n",
       "      <th>2</th>\n",
       "      <td>adore</td>\n",
       "      <td>0.414221</td>\n",
       "      <td>lints</td>\n",
       "    </tr>\n",
       "    <tr>\n",
       "      <th>3</th>\n",
       "      <td>adorn</td>\n",
       "      <td>0.341986</td>\n",
       "      <td>tiles</td>\n",
       "    </tr>\n",
       "  </tbody>\n",
       "</table>\n",
       "</div>"
      ],
      "text/plain": [
       "    word  encoding complement\n",
       "1  adits  0.727991      loner\n",
       "2  adore  0.414221      lints\n",
       "3  adorn  0.341986      tiles"
      ]
     },
     "execution_count": 231,
     "metadata": {},
     "output_type": "execute_result"
    }
   ],
   "source": [
    "complements.head(3)"
   ]
  },
  {
   "cell_type": "code",
   "execution_count": 232,
   "id": "7da5c274-25e5-47a4-a55b-06012bbb0cc1",
   "metadata": {},
   "outputs": [],
   "source": [
    "complements['complement_encoding'] = complements['complement'].map(freq_encode)"
   ]
  },
  {
   "cell_type": "code",
   "execution_count": 234,
   "id": "5a5e367f-c1c5-4320-b215-4608a01c0028",
   "metadata": {},
   "outputs": [],
   "source": [
    "complements['encoding_sum'] = complements['encoding'] + complements['complement_encoding']\n",
    "complements['encoding_product'] = complements['encoding'] * complements['complement_encoding']"
   ]
  },
  {
   "cell_type": "code",
   "execution_count": 238,
   "id": "bb79efcb-5a56-4313-9e07-4894cc95c8bf",
   "metadata": {},
   "outputs": [
    {
     "data": {
      "text/html": [
       "<div>\n",
       "<style scoped>\n",
       "    .dataframe tbody tr th:only-of-type {\n",
       "        vertical-align: middle;\n",
       "    }\n",
       "\n",
       "    .dataframe tbody tr th {\n",
       "        vertical-align: top;\n",
       "    }\n",
       "\n",
       "    .dataframe thead th {\n",
       "        text-align: right;\n",
       "    }\n",
       "</style>\n",
       "<table border=\"1\" class=\"dataframe\">\n",
       "  <thead>\n",
       "    <tr style=\"text-align: right;\">\n",
       "      <th></th>\n",
       "      <th>word</th>\n",
       "      <th>encoding</th>\n",
       "      <th>complement</th>\n",
       "      <th>complement_encoding</th>\n",
       "      <th>encoding_sum</th>\n",
       "      <th>encoding_product</th>\n",
       "    </tr>\n",
       "  </thead>\n",
       "  <tbody>\n",
       "    <tr>\n",
       "      <th>134</th>\n",
       "      <td>laris</td>\n",
       "      <td>0.892777</td>\n",
       "      <td>toned</td>\n",
       "      <td>0.825056</td>\n",
       "      <td>1.717833</td>\n",
       "      <td>0.736591</td>\n",
       "    </tr>\n",
       "    <tr>\n",
       "      <th>399</th>\n",
       "      <td>toned</td>\n",
       "      <td>0.825056</td>\n",
       "      <td>laris</td>\n",
       "      <td>0.892777</td>\n",
       "      <td>1.717833</td>\n",
       "      <td>0.736591</td>\n",
       "    </tr>\n",
       "    <tr>\n",
       "      <th>240</th>\n",
       "      <td>ranis</td>\n",
       "      <td>0.890519</td>\n",
       "      <td>toled</td>\n",
       "      <td>0.825056</td>\n",
       "      <td>1.715576</td>\n",
       "      <td>0.734729</td>\n",
       "    </tr>\n",
       "    <tr>\n",
       "      <th>395</th>\n",
       "      <td>toled</td>\n",
       "      <td>0.825056</td>\n",
       "      <td>ranis</td>\n",
       "      <td>0.890519</td>\n",
       "      <td>1.715576</td>\n",
       "      <td>0.734729</td>\n",
       "    </tr>\n",
       "    <tr>\n",
       "      <th>396</th>\n",
       "      <td>toles</td>\n",
       "      <td>1.123025</td>\n",
       "      <td>ranid</td>\n",
       "      <td>0.592551</td>\n",
       "      <td>1.715576</td>\n",
       "      <td>0.665449</td>\n",
       "    </tr>\n",
       "    <tr>\n",
       "      <th>239</th>\n",
       "      <td>ranid</td>\n",
       "      <td>0.592551</td>\n",
       "      <td>toles</td>\n",
       "      <td>1.123025</td>\n",
       "      <td>1.715576</td>\n",
       "      <td>0.665449</td>\n",
       "    </tr>\n",
       "    <tr>\n",
       "      <th>163</th>\n",
       "      <td>liras</td>\n",
       "      <td>0.889391</td>\n",
       "      <td>toned</td>\n",
       "      <td>0.825056</td>\n",
       "      <td>1.714447</td>\n",
       "      <td>0.733797</td>\n",
       "    </tr>\n",
       "    <tr>\n",
       "      <th>157</th>\n",
       "      <td>lined</td>\n",
       "      <td>0.738149</td>\n",
       "      <td>toras</td>\n",
       "      <td>0.976298</td>\n",
       "      <td>1.714447</td>\n",
       "      <td>0.720653</td>\n",
       "    </tr>\n",
       "    <tr>\n",
       "      <th>402</th>\n",
       "      <td>toras</td>\n",
       "      <td>0.976298</td>\n",
       "      <td>lined</td>\n",
       "      <td>0.738149</td>\n",
       "      <td>1.714447</td>\n",
       "      <td>0.720653</td>\n",
       "    </tr>\n",
       "    <tr>\n",
       "      <th>234</th>\n",
       "      <td>rails</td>\n",
       "      <td>0.880361</td>\n",
       "      <td>toned</td>\n",
       "      <td>0.825056</td>\n",
       "      <td>1.705418</td>\n",
       "      <td>0.726348</td>\n",
       "    </tr>\n",
       "    <tr>\n",
       "      <th>381</th>\n",
       "      <td>tiler</td>\n",
       "      <td>0.790068</td>\n",
       "      <td>donas</td>\n",
       "      <td>0.909707</td>\n",
       "      <td>1.699774</td>\n",
       "      <td>0.718730</td>\n",
       "    </tr>\n",
       "    <tr>\n",
       "      <th>394</th>\n",
       "      <td>tolas</td>\n",
       "      <td>0.960497</td>\n",
       "      <td>diner</td>\n",
       "      <td>0.739278</td>\n",
       "      <td>1.699774</td>\n",
       "      <td>0.710074</td>\n",
       "    </tr>\n",
       "    <tr>\n",
       "      <th>79</th>\n",
       "      <td>donas</td>\n",
       "      <td>0.909707</td>\n",
       "      <td>tiler</td>\n",
       "      <td>0.790068</td>\n",
       "      <td>1.699774</td>\n",
       "      <td>0.718730</td>\n",
       "    </tr>\n",
       "    <tr>\n",
       "      <th>65</th>\n",
       "      <td>diner</td>\n",
       "      <td>0.739278</td>\n",
       "      <td>tolas</td>\n",
       "      <td>0.960497</td>\n",
       "      <td>1.699774</td>\n",
       "      <td>0.710074</td>\n",
       "    </tr>\n",
       "    <tr>\n",
       "      <th>64</th>\n",
       "      <td>dinar</td>\n",
       "      <td>0.576749</td>\n",
       "      <td>toles</td>\n",
       "      <td>1.123025</td>\n",
       "      <td>1.699774</td>\n",
       "      <td>0.647704</td>\n",
       "    </tr>\n",
       "  </tbody>\n",
       "</table>\n",
       "</div>"
      ],
      "text/plain": [
       "      word  encoding complement  complement_encoding  encoding_sum  \\\n",
       "134  laris  0.892777      toned             0.825056      1.717833   \n",
       "399  toned  0.825056      laris             0.892777      1.717833   \n",
       "240  ranis  0.890519      toled             0.825056      1.715576   \n",
       "395  toled  0.825056      ranis             0.890519      1.715576   \n",
       "396  toles  1.123025      ranid             0.592551      1.715576   \n",
       "239  ranid  0.592551      toles             1.123025      1.715576   \n",
       "163  liras  0.889391      toned             0.825056      1.714447   \n",
       "157  lined  0.738149      toras             0.976298      1.714447   \n",
       "402  toras  0.976298      lined             0.738149      1.714447   \n",
       "234  rails  0.880361      toned             0.825056      1.705418   \n",
       "381  tiler  0.790068      donas             0.909707      1.699774   \n",
       "394  tolas  0.960497      diner             0.739278      1.699774   \n",
       "79   donas  0.909707      tiler             0.790068      1.699774   \n",
       "65   diner  0.739278      tolas             0.960497      1.699774   \n",
       "64   dinar  0.576749      toles             1.123025      1.699774   \n",
       "\n",
       "     encoding_product  \n",
       "134          0.736591  \n",
       "399          0.736591  \n",
       "240          0.734729  \n",
       "395          0.734729  \n",
       "396          0.665449  \n",
       "239          0.665449  \n",
       "163          0.733797  \n",
       "157          0.720653  \n",
       "402          0.720653  \n",
       "234          0.726348  \n",
       "381          0.718730  \n",
       "394          0.710074  \n",
       "79           0.718730  \n",
       "65           0.710074  \n",
       "64           0.647704  "
      ]
     },
     "execution_count": 238,
     "metadata": {},
     "output_type": "execute_result"
    }
   ],
   "source": [
    "complements.sort_values(by='encoding_sum', ascending=False).head(15)"
   ]
  },
  {
   "cell_type": "code",
   "execution_count": 239,
   "id": "a6535d8f-1802-4769-8437-68a0ead03f18",
   "metadata": {},
   "outputs": [
    {
     "data": {
      "text/html": [
       "<div>\n",
       "<style scoped>\n",
       "    .dataframe tbody tr th:only-of-type {\n",
       "        vertical-align: middle;\n",
       "    }\n",
       "\n",
       "    .dataframe tbody tr th {\n",
       "        vertical-align: top;\n",
       "    }\n",
       "\n",
       "    .dataframe thead th {\n",
       "        text-align: right;\n",
       "    }\n",
       "</style>\n",
       "<table border=\"1\" class=\"dataframe\">\n",
       "  <thead>\n",
       "    <tr style=\"text-align: right;\">\n",
       "      <th></th>\n",
       "      <th>word</th>\n",
       "      <th>encoding</th>\n",
       "      <th>complement</th>\n",
       "      <th>complement_encoding</th>\n",
       "      <th>encoding_sum</th>\n",
       "      <th>encoding_product</th>\n",
       "    </tr>\n",
       "  </thead>\n",
       "  <tbody>\n",
       "    <tr>\n",
       "      <th>134</th>\n",
       "      <td>laris</td>\n",
       "      <td>0.892777</td>\n",
       "      <td>toned</td>\n",
       "      <td>0.825056</td>\n",
       "      <td>1.717833</td>\n",
       "      <td>0.736591</td>\n",
       "    </tr>\n",
       "    <tr>\n",
       "      <th>399</th>\n",
       "      <td>toned</td>\n",
       "      <td>0.825056</td>\n",
       "      <td>laris</td>\n",
       "      <td>0.892777</td>\n",
       "      <td>1.717833</td>\n",
       "      <td>0.736591</td>\n",
       "    </tr>\n",
       "    <tr>\n",
       "      <th>395</th>\n",
       "      <td>toled</td>\n",
       "      <td>0.825056</td>\n",
       "      <td>ranis</td>\n",
       "      <td>0.890519</td>\n",
       "      <td>1.715576</td>\n",
       "      <td>0.734729</td>\n",
       "    </tr>\n",
       "    <tr>\n",
       "      <th>240</th>\n",
       "      <td>ranis</td>\n",
       "      <td>0.890519</td>\n",
       "      <td>toled</td>\n",
       "      <td>0.825056</td>\n",
       "      <td>1.715576</td>\n",
       "      <td>0.734729</td>\n",
       "    </tr>\n",
       "    <tr>\n",
       "      <th>163</th>\n",
       "      <td>liras</td>\n",
       "      <td>0.889391</td>\n",
       "      <td>toned</td>\n",
       "      <td>0.825056</td>\n",
       "      <td>1.714447</td>\n",
       "      <td>0.733797</td>\n",
       "    </tr>\n",
       "    <tr>\n",
       "      <th>234</th>\n",
       "      <td>rails</td>\n",
       "      <td>0.880361</td>\n",
       "      <td>toned</td>\n",
       "      <td>0.825056</td>\n",
       "      <td>1.705418</td>\n",
       "      <td>0.726348</td>\n",
       "    </tr>\n",
       "    <tr>\n",
       "      <th>402</th>\n",
       "      <td>toras</td>\n",
       "      <td>0.976298</td>\n",
       "      <td>lined</td>\n",
       "      <td>0.738149</td>\n",
       "      <td>1.714447</td>\n",
       "      <td>0.720653</td>\n",
       "    </tr>\n",
       "    <tr>\n",
       "      <th>157</th>\n",
       "      <td>lined</td>\n",
       "      <td>0.738149</td>\n",
       "      <td>toras</td>\n",
       "      <td>0.976298</td>\n",
       "      <td>1.714447</td>\n",
       "      <td>0.720653</td>\n",
       "    </tr>\n",
       "    <tr>\n",
       "      <th>359</th>\n",
       "      <td>tared</td>\n",
       "      <td>0.831828</td>\n",
       "      <td>loins</td>\n",
       "      <td>0.865688</td>\n",
       "      <td>1.697517</td>\n",
       "      <td>0.720104</td>\n",
       "    </tr>\n",
       "    <tr>\n",
       "      <th>172</th>\n",
       "      <td>loins</td>\n",
       "      <td>0.865688</td>\n",
       "      <td>tared</td>\n",
       "      <td>0.831828</td>\n",
       "      <td>1.697517</td>\n",
       "      <td>0.720104</td>\n",
       "    </tr>\n",
       "    <tr>\n",
       "      <th>79</th>\n",
       "      <td>donas</td>\n",
       "      <td>0.909707</td>\n",
       "      <td>tiler</td>\n",
       "      <td>0.790068</td>\n",
       "      <td>1.699774</td>\n",
       "      <td>0.718730</td>\n",
       "    </tr>\n",
       "    <tr>\n",
       "      <th>381</th>\n",
       "      <td>tiler</td>\n",
       "      <td>0.790068</td>\n",
       "      <td>donas</td>\n",
       "      <td>0.909707</td>\n",
       "      <td>1.699774</td>\n",
       "      <td>0.718730</td>\n",
       "    </tr>\n",
       "    <tr>\n",
       "      <th>235</th>\n",
       "      <td>rains</td>\n",
       "      <td>0.870203</td>\n",
       "      <td>toled</td>\n",
       "      <td>0.825056</td>\n",
       "      <td>1.695260</td>\n",
       "      <td>0.717967</td>\n",
       "    </tr>\n",
       "    <tr>\n",
       "      <th>264</th>\n",
       "      <td>rials</td>\n",
       "      <td>0.869074</td>\n",
       "      <td>toned</td>\n",
       "      <td>0.825056</td>\n",
       "      <td>1.694131</td>\n",
       "      <td>0.717036</td>\n",
       "    </tr>\n",
       "    <tr>\n",
       "      <th>65</th>\n",
       "      <td>diner</td>\n",
       "      <td>0.739278</td>\n",
       "      <td>tolas</td>\n",
       "      <td>0.960497</td>\n",
       "      <td>1.699774</td>\n",
       "      <td>0.710074</td>\n",
       "    </tr>\n",
       "  </tbody>\n",
       "</table>\n",
       "</div>"
      ],
      "text/plain": [
       "      word  encoding complement  complement_encoding  encoding_sum  \\\n",
       "134  laris  0.892777      toned             0.825056      1.717833   \n",
       "399  toned  0.825056      laris             0.892777      1.717833   \n",
       "395  toled  0.825056      ranis             0.890519      1.715576   \n",
       "240  ranis  0.890519      toled             0.825056      1.715576   \n",
       "163  liras  0.889391      toned             0.825056      1.714447   \n",
       "234  rails  0.880361      toned             0.825056      1.705418   \n",
       "402  toras  0.976298      lined             0.738149      1.714447   \n",
       "157  lined  0.738149      toras             0.976298      1.714447   \n",
       "359  tared  0.831828      loins             0.865688      1.697517   \n",
       "172  loins  0.865688      tared             0.831828      1.697517   \n",
       "79   donas  0.909707      tiler             0.790068      1.699774   \n",
       "381  tiler  0.790068      donas             0.909707      1.699774   \n",
       "235  rains  0.870203      toled             0.825056      1.695260   \n",
       "264  rials  0.869074      toned             0.825056      1.694131   \n",
       "65   diner  0.739278      tolas             0.960497      1.699774   \n",
       "\n",
       "     encoding_product  \n",
       "134          0.736591  \n",
       "399          0.736591  \n",
       "395          0.734729  \n",
       "240          0.734729  \n",
       "163          0.733797  \n",
       "234          0.726348  \n",
       "402          0.720653  \n",
       "157          0.720653  \n",
       "359          0.720104  \n",
       "172          0.720104  \n",
       "79           0.718730  \n",
       "381          0.718730  \n",
       "235          0.717967  \n",
       "264          0.717036  \n",
       "65           0.710074  "
      ]
     },
     "execution_count": 239,
     "metadata": {},
     "output_type": "execute_result"
    }
   ],
   "source": [
    "complements.sort_values(by='encoding_product', ascending=False).head(15)"
   ]
  },
  {
   "cell_type": "code",
   "execution_count": null,
   "id": "e9a9c450-a75c-413d-9a3b-a332a46f9380",
   "metadata": {},
   "outputs": [],
   "source": []
  },
  {
   "cell_type": "code",
   "execution_count": null,
   "id": "4aa937de-3cbb-4b74-9126-8e82d75f1742",
   "metadata": {},
   "outputs": [],
   "source": []
  },
  {
   "cell_type": "code",
   "execution_count": 182,
   "id": "9a1febae-35c9-4ef9-8c65-a1b84ff65b6d",
   "metadata": {},
   "outputs": [
    {
     "data": {
      "text/plain": [
       "'radon'"
      ]
     },
     "execution_count": 182,
     "metadata": {},
     "output_type": "execute_result"
    }
   ],
   "source": [
    "get_highest_scored_paired_word(get_paired_words('tiles'))"
   ]
  },
  {
   "cell_type": "code",
   "execution_count": 180,
   "id": "bf16cc80-2be8-4a2a-a474-39cbd3859419",
   "metadata": {},
   "outputs": [
    {
     "data": {
      "text/plain": [
       "['adorn', 'radon']"
      ]
     },
     "execution_count": 180,
     "metadata": {},
     "output_type": "execute_result"
    }
   ],
   "source": [
    "get_paired_words('tiles')"
   ]
  },
  {
   "cell_type": "code",
   "execution_count": null,
   "id": "1bc4849a-24dc-45bc-bcc9-c22b79c46ae2",
   "metadata": {},
   "outputs": [],
   "source": []
  },
  {
   "cell_type": "code",
   "execution_count": null,
   "id": "996ae661-cb46-4e22-9171-1ef9dedc2b54",
   "metadata": {},
   "outputs": [],
   "source": []
  },
  {
   "cell_type": "code",
   "execution_count": null,
   "id": "38cb6a37-89f1-47e1-ab41-9e8f0136030a",
   "metadata": {},
   "outputs": [],
   "source": []
  },
  {
   "cell_type": "code",
   "execution_count": null,
   "id": "be333a7c-3545-46d0-9091-1a8e3efe9ebb",
   "metadata": {},
   "outputs": [],
   "source": []
  },
  {
   "cell_type": "code",
   "execution_count": null,
   "id": "5fd9e604-16f9-4c41-8438-67ace9b678e1",
   "metadata": {},
   "outputs": [],
   "source": []
  }
 ],
 "metadata": {
  "kernelspec": {
   "display_name": "Python 3",
   "language": "python",
   "name": "python3"
  },
  "language_info": {
   "codemirror_mode": {
    "name": "ipython",
    "version": 3
   },
   "file_extension": ".py",
   "mimetype": "text/x-python",
   "name": "python",
   "nbconvert_exporter": "python",
   "pygments_lexer": "ipython3",
   "version": "3.8.8"
  }
 },
 "nbformat": 4,
 "nbformat_minor": 5
}
